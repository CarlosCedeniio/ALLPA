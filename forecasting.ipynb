{
 "cells": [
  {
   "cell_type": "code",
   "execution_count": null,
   "id": "0d428e2b",
   "metadata": {},
   "outputs": [],
   "source": [
    "import pandas as pd\n",
    "import numpy as np\n",
    "from keras.models import Sequential\n",
    "from keras.layers import LSTM, Dense\n",
    "from sklearn.preprocessing import MinMaxScaler\n",
    "from sklearn.model_selection import train_test_split"
   ]
  },
  {
   "cell_type": "code",
   "execution_count": 1,
   "id": "3d7fb2bb",
   "metadata": {},
   "outputs": [
    {
     "name": "stdout",
     "output_type": "stream",
     "text": [
      "Collecting cdsapi\n",
      "  Downloading cdsapi-0.6.1.tar.gz (13 kB)\n",
      "  Preparing metadata (setup.py): started\n",
      "  Preparing metadata (setup.py): finished with status 'done'\n",
      "Requirement already satisfied: requests>=2.5.0 in c:\\users\\axcel\\anaconda3\\lib\\site-packages (from cdsapi) (2.29.0)\n",
      "Requirement already satisfied: tqdm in c:\\users\\axcel\\anaconda3\\lib\\site-packages (from cdsapi) (4.65.0)\n",
      "Requirement already satisfied: charset-normalizer<4,>=2 in c:\\users\\axcel\\anaconda3\\lib\\site-packages (from requests>=2.5.0->cdsapi) (2.0.4)\n",
      "Requirement already satisfied: idna<4,>=2.5 in c:\\users\\axcel\\anaconda3\\lib\\site-packages (from requests>=2.5.0->cdsapi) (3.4)\n",
      "Requirement already satisfied: urllib3<1.27,>=1.21.1 in c:\\users\\axcel\\anaconda3\\lib\\site-packages (from requests>=2.5.0->cdsapi) (1.26.16)\n",
      "Requirement already satisfied: certifi>=2017.4.17 in c:\\users\\axcel\\anaconda3\\lib\\site-packages (from requests>=2.5.0->cdsapi) (2023.5.7)\n",
      "Requirement already satisfied: colorama in c:\\users\\axcel\\anaconda3\\lib\\site-packages (from tqdm->cdsapi) (0.4.6)\n",
      "Building wheels for collected packages: cdsapi\n",
      "  Building wheel for cdsapi (setup.py): started\n",
      "  Building wheel for cdsapi (setup.py): finished with status 'done'\n",
      "  Created wheel for cdsapi: filename=cdsapi-0.6.1-py2.py3-none-any.whl size=12029 sha256=dcc28ec0502a30aad6d92c1a9144f9eb23cfc0a647b035ab0affe03499885a06\n",
      "  Stored in directory: c:\\users\\axcel\\appdata\\local\\pip\\cache\\wheels\\f9\\26\\57\\a49a681496dea59363312ae87ffa8397100f8e8f6bab3591ea\n",
      "Successfully built cdsapi\n",
      "Installing collected packages: cdsapi\n",
      "Successfully installed cdsapi-0.6.1\n"
     ]
    }
   ],
   "source": [
    "!pip install cdsapi\n",
    "!pip install xarray"
   ]
  },
  {
   "cell_type": "code",
   "execution_count": null,
   "id": "6b011a52",
   "metadata": {
    "scrolled": false
   },
   "outputs": [
    {
     "name": "stderr",
     "output_type": "stream",
     "text": [
      "2024-02-25 09:00:33,600 INFO Welcome to the CDS\n",
      "2024-02-25 09:00:33,603 INFO Sending request to https://cds.climate.copernicus.eu/api/v2/resources/reanalysis-era5-single-levels\n",
      "2024-02-25 09:00:33,885 INFO Request is queued\n"
     ]
    }
   ],
   "source": [
    "import cdsapi\n",
    "\n",
    "c = cdsapi.Client()\n",
    "\n",
    "c.retrieve(\n",
    "    'reanalysis-era5-single-levels',\n",
    "    {\n",
    "        'product_type': 'reanalysis',\n",
    "        'format': 'netcdf',\n",
    "        'variable': [\n",
    "            '2m_temperature', 'total_precipitation', '2m_dewpoint_temperature', '10m_wind_speed'\n",
    "        ],\n",
    "        'year': [str(year) for year in range(2010, 2022)],  # Ajusta el año final según sea necesario\n",
    "        'month': [\n",
    "            '01', '02', '03', '04', '05', '06',\n",
    "            '07', '08', '09', '10', '11', '12',\n",
    "        ],\n",
    "        'day': [\n",
    "            '01', '02', '03', '04', '05', '06', '07', '08', '09',\n",
    "            '10', '11', '12', '13', '14', '15', '16', '17', '18',\n",
    "            '19', '20', '21', '22', '23', '24', '25', '26', '27',\n",
    "            '28', '29', '30', '31',\n",
    "        ],\n",
    "        'time': [\n",
    "            '00:00', '06:00', '12:00', '18:00',\n",
    "        ],\n",
    "        'area': [\n",
    "            1.5, -92.0, -5.0, -75.0,  # Coordenadas aproximadas para Ecuador: Norte, Oeste, Sur, Este\n",
    "        ],\n",
    "    },\n",
    "    'historical_data.nc')  # Nombre del archivo de salida"
   ]
  },
  {
   "cell_type": "code",
   "execution_count": null,
   "id": "a322b081",
   "metadata": {},
   "outputs": [],
   "source": [
    "import xarray as xr\n",
    "\n",
    "data = xr.open_dataset('historical_data.nc')\n",
    "data"
   ]
  },
  {
   "cell_type": "code",
   "execution_count": null,
   "id": "d7007e24",
   "metadata": {},
   "outputs": [],
   "source": [
    "# Acceder a una variable específica, por ejemplo, la temperatura a 2 metros\n",
    "temperature = data['2m_temperature']\n",
    "\n",
    "# Mostrar los primeros valores\n",
    "print(temperature.values)\n",
    "\n",
    "# Acceder a otras variables de manera similar\n",
    "precipitation = data['total_precipitation']\n",
    "dewpoint_temperature = data['2m_dewpoint_temperature']\n",
    "# Para la velocidad del viento, primero verifica cómo están nombradas las componentes U y V en tu dataset\n",
    "# wind_speed_u = data['u_component_of_wind_at_10m']\n",
    "# wind_speed_v = data['v_component_of_wind_at_10m']"
   ]
  },
  {
   "cell_type": "code",
   "execution_count": null,
   "id": "99ff0cf4",
   "metadata": {},
   "outputs": [],
   "source": [
    "import pandas as pd\n",
    "\n",
    "# Suponiendo que deseas trabajar con la temperatura y la precipitación\n",
    "df_temp = temperature.to_dataframe().reset_index()\n",
    "df_precip = precipitation.to_dataframe().reset_index()\n",
    "\n",
    "# Combina los DataFrames si es necesario, asegurándote de que coincidan en su índice temporal\n",
    "df_combined = pd.merge(df_temp, df_precip, on=[\"time\", \"latitude\", \"longitude\"], how=\"inner\")\n",
    "print(df_combined.head())"
   ]
  },
  {
   "cell_type": "code",
   "execution_count": null,
   "id": "dba4b012",
   "metadata": {},
   "outputs": [],
   "source": [
    "df['fecha'] = pd.to_datetime(df['fecha'])\n",
    "df.set_index('fecha', inplace=True)\n",
    "\n",
    "# Asumiendo que tu dataset tiene columnas nombradas como 'temperatura', 'precipitacion', 'humedad', 'velocidad_viento'\n",
    "variables_de_interes = ['temperatura', 'precipitacion', 'humedad', 'velocidad_viento']\n",
    "data = df[variables_de_interes]"
   ]
  },
  {
   "cell_type": "code",
   "execution_count": null,
   "id": "a9c0987b",
   "metadata": {},
   "outputs": [],
   "source": [
    "# Preparar los datos para LSTM\n",
    "def crear_dataset(X, y, time_steps=1):\n",
    "    Xs, ys = [], []\n",
    "    for i in range(len(X) - time_steps):\n",
    "        v = X.iloc[i:(i + time_steps)].values\n",
    "        Xs.append(v)\n",
    "        ys.append(y.iloc[i + time_steps])\n",
    "    return np.array(Xs), np.array(ys)"
   ]
  },
  {
   "cell_type": "code",
   "execution_count": null,
   "id": "30c3e817",
   "metadata": {},
   "outputs": [],
   "source": [
    "# Escalar datos\n",
    "scaler = MinMaxScaler(feature_range=(0, 1))\n",
    "data_scaled = scaler.fit_transform(data)"
   ]
  },
  {
   "cell_type": "code",
   "execution_count": null,
   "id": "bc229b58",
   "metadata": {},
   "outputs": [],
   "source": [
    "time_steps = 10\n",
    "X, y = crear_dataset(pd.DataFrame(data_scaled[:, 1:]), pd.DataFrame(data_scaled[:, 0]), time_steps)\n",
    "\n",
    "X_train, X_temp, y_train, y_temp = train_test_split(X, y, test_size=0.4, random_state=42)\n",
    "X_val, X_test, y_val, y_test = train_test_split(X_temp, y_temp, test_size=0.5, random_state=42) # Dividir el temp en dos partes iguales"
   ]
  },
  {
   "cell_type": "code",
   "execution_count": null,
   "id": "8b85aea8",
   "metadata": {},
   "outputs": [],
   "source": [
    "# LSTM\n",
    "model = Sequential([\n",
    "    LSTM(50, activation='relu', input_shape=(X_train.shape[1], X_train.shape[2])),\n",
    "    Dense(1)\n",
    "])\n",
    "model.compile(optimizer='adam', loss='mse')"
   ]
  },
  {
   "cell_type": "code",
   "execution_count": null,
   "id": "cc352543",
   "metadata": {},
   "outputs": [],
   "source": [
    "# Entrenar el modelo\n",
    "model.fit(X_train, y_train, epochs=30, batch_size=32, validation_data=(X_val, y_val), verbose=1)"
   ]
  },
  {
   "cell_type": "code",
   "execution_count": null,
   "id": "832c61a9",
   "metadata": {},
   "outputs": [],
   "source": [
    "# Predicción\n",
    "y_pred = model.predict(X_test)"
   ]
  },
  {
   "cell_type": "code",
   "execution_count": null,
   "id": "50b681d8",
   "metadata": {},
   "outputs": [],
   "source": [
    "# Escalar inverso para obtener predicciones en la escala original\n",
    "# Nota: Ajusta la lógica de inversión de escala según cómo hayas escalado tus datos.\n",
    "y_test_inv = scaler.inverse_transform(np.concatenate((y_test, X_test[:, :, 1:]), axis=1))[:, 0]\n",
    "y_pred_inv = scaler.inverse_transform(np.concatenate((y_pred, X_test[:, :, 1:]), axis=1))[:, 0]"
   ]
  },
  {
   "cell_type": "code",
   "execution_count": null,
   "id": "07e8f3e1",
   "metadata": {},
   "outputs": [],
   "source": [
    "# Rendimiento de tu modelo en el conjunto de prueba\n",
    "from sklearn.metrics import mean_squared_error\n",
    "rmse = np.sqrt(mean_squared_error(y_test_inv, y_pred_inv))\n",
    "rmse"
   ]
  }
 ],
 "metadata": {
  "kernelspec": {
   "display_name": "Python 3 (ipykernel)",
   "language": "python",
   "name": "python3"
  },
  "language_info": {
   "codemirror_mode": {
    "name": "ipython",
    "version": 3
   },
   "file_extension": ".py",
   "mimetype": "text/x-python",
   "name": "python",
   "nbconvert_exporter": "python",
   "pygments_lexer": "ipython3",
   "version": "3.11.3"
  }
 },
 "nbformat": 4,
 "nbformat_minor": 5
}
